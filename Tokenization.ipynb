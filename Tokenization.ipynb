{
 "cells": [
  {
   "cell_type": "raw",
   "id": "e92761bc",
   "metadata": {},
   "source": [
    "tokeniZation NOT tokeniSation"
   ]
  },
  {
   "cell_type": "code",
   "execution_count": 1,
   "id": "30644a95",
   "metadata": {},
   "outputs": [
    {
     "name": "stderr",
     "output_type": "stream",
     "text": [
      "[nltk_data] Downloading package punkt to\n",
      "[nltk_data]     C:\\Users\\Gauri\\AppData\\Roaming\\nltk_data...\n",
      "[nltk_data]   Unzipping tokenizers\\punkt.zip.\n"
     ]
    },
    {
     "data": {
      "text/plain": [
       "True"
      ]
     },
     "execution_count": 1,
     "metadata": {},
     "output_type": "execute_result"
    }
   ],
   "source": [
    "import nltk\n",
    "nltk.download('punkt')"
   ]
  },
  {
   "cell_type": "code",
   "execution_count": 36,
   "id": "233b8a0f",
   "metadata": {},
   "outputs": [],
   "source": [
    "my_text = \"I was born in Tusinia, in 1995. I am 28 years old. I witnessed the terror-inducing economic resession in 2008. I didn't witness 9/11 in person though.\""
   ]
  },
  {
   "cell_type": "code",
   "execution_count": 24,
   "id": "4fae8f10",
   "metadata": {},
   "outputs": [
    {
     "name": "stdout",
     "output_type": "stream",
     "text": [
      "['I', 'was', 'born', 'in', 'Tusinia,', 'in', '1995.', 'I', 'am', '28', 'years', 'old.', 'I', 'witnessed', 'the', 'terror-inducing', 'economic', 'resession', 'in', '2008.', 'I', \"did'nt\", 'witness', '9/11', 'in', 'person', 'though.']\n"
     ]
    }
   ],
   "source": [
    "print(my_text.split())"
   ]
  },
  {
   "cell_type": "code",
   "execution_count": 25,
   "id": "71fc4bc6",
   "metadata": {},
   "outputs": [],
   "source": [
    "from nltk.tokenize import(word_tokenize, sent_tokenize, TreebankWordTokenizer, wordpunct_tokenize, TweetTokenizer, MWETokenizer)"
   ]
  },
  {
   "cell_type": "code",
   "execution_count": 26,
   "id": "2446e5ad",
   "metadata": {},
   "outputs": [
    {
     "name": "stdout",
     "output_type": "stream",
     "text": [
      "['I', 'was', 'born', 'in', 'Tusinia', ',', 'in', '1995', '.', 'I', 'am', '28', 'years', 'old', '.', 'I', 'witnessed', 'the', 'terror-inducing', 'economic', 'resession', 'in', '2008', '.', 'I', \"did'nt\", 'witness', '9/11', 'in', 'person', 'though', '.']\n"
     ]
    }
   ],
   "source": [
    "print(word_tokenize(my_text))"
   ]
  },
  {
   "cell_type": "code",
   "execution_count": 27,
   "id": "f56c8a35",
   "metadata": {},
   "outputs": [
    {
     "name": "stdout",
     "output_type": "stream",
     "text": [
      "['I', 'was', 'born', 'in', 'Tusinia', ',', 'in', '1995', '.', 'I', 'am', '28', 'years', 'old', '.', 'I', 'witnessed', 'the', 'terror', '-', 'inducing', 'economic', 'resession', 'in', '2008', '.', 'I', 'did', \"'\", 'nt', 'witness', '9', '/', '11', 'in', 'person', 'though', '.']\n"
     ]
    }
   ],
   "source": [
    "print(wordpunct_tokenize(my_text))"
   ]
  },
  {
   "cell_type": "code",
   "execution_count": 28,
   "id": "47085119",
   "metadata": {
    "scrolled": true
   },
   "outputs": [
    {
     "name": "stdout",
     "output_type": "stream",
     "text": [
      "['I was born in Tusinia, in 1995.', 'I am 28 years old.', 'I witnessed the terror-inducing economic resession in 2008.', \"I did'nt witness 9/11 in person though.\"]\n"
     ]
    }
   ],
   "source": [
    "print(sent_tokenize(my_text))"
   ]
  },
  {
   "cell_type": "code",
   "execution_count": 37,
   "id": "e2e19713",
   "metadata": {},
   "outputs": [
    {
     "name": "stdout",
     "output_type": "stream",
     "text": [
      "['I', 'was', 'born', 'in', 'Tusinia', ',', 'in', '1995.', 'I', 'am', '28', 'years', 'old.', 'I', 'witnessed', 'the', 'terror-inducing', 'economic', 'resession', 'in', '2008.', 'I', 'did', \"n't\", 'witness', '9/11', 'in', 'person', 'though', '.']\n"
     ]
    }
   ],
   "source": [
    "tokenizer = TreebankWordTokenizer()\n",
    "print(tokenizer.tokenize(my_text))"
   ]
  },
  {
   "cell_type": "code",
   "execution_count": 39,
   "id": "cedf1e82",
   "metadata": {},
   "outputs": [
    {
     "name": "stdout",
     "output_type": "stream",
     "text": [
      "['The', 'food', 'is', 'good', '!', '😊']\n"
     ]
    }
   ],
   "source": [
    "tokenizer = TweetTokenizer()\n",
    "my_text = \"The food is good!😊\"\n",
    "print(tokenizer.tokenize(my_text))"
   ]
  },
  {
   "cell_type": "code",
   "execution_count": 50,
   "id": "bb72c362",
   "metadata": {},
   "outputs": [
    {
     "name": "stdout",
     "output_type": "stream",
     "text": [
      "['The', 'food', 'is', 'good', '!', '😊']\n"
     ]
    }
   ],
   "source": [
    "my_text = \"The food is good !😊\"\n",
    "tokenizer = MWETokenizer()\n",
    "print(tokenizer.tokenize(word_tokenize(my_text)))"
   ]
  },
  {
   "cell_type": "code",
   "execution_count": 49,
   "id": "a8e58581",
   "metadata": {},
   "outputs": [
    {
     "name": "stdout",
     "output_type": "stream",
     "text": [
      "['The', 'food', 'is_good', '!', '😊']\n"
     ]
    }
   ],
   "source": [
    "my_text = \"The food is_good !😊\"\n",
    "tokenizer = MWETokenizer()\n",
    "tokenizer.add_mwe((\"is\", \"good\"))\n",
    "print(tokenizer.tokenize(word_tokenize(my_text)))"
   ]
  },
  {
   "cell_type": "code",
   "execution_count": null,
   "id": "32b73dd4",
   "metadata": {},
   "outputs": [],
   "source": []
  }
 ],
 "metadata": {
  "kernelspec": {
   "display_name": "Python 3 (ipykernel)",
   "language": "python",
   "name": "python3"
  },
  "language_info": {
   "codemirror_mode": {
    "name": "ipython",
    "version": 3
   },
   "file_extension": ".py",
   "mimetype": "text/x-python",
   "name": "python",
   "nbconvert_exporter": "python",
   "pygments_lexer": "ipython3",
   "version": "3.10.9"
  }
 },
 "nbformat": 4,
 "nbformat_minor": 5
}
